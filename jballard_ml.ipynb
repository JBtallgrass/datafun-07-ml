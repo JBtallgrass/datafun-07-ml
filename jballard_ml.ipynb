{
 "cells": [
  {
   "cell_type": "markdown",
   "metadata": {},
   "source": [
    "# Module 7: Machine Learning\n",
    "\n",
    "## Author Jason A. Ballard  \n",
    "\n",
    "## [JBtallgrass GitHub Repo](https://github.com/JBtallgrass/datafun-07-ml)"
   ]
  },
  {
   "cell_type": "code",
   "execution_count": null,
   "metadata": {},
   "outputs": [],
   "source": [
    "# Import dependencies\n",
    "import matplotlib.pyplot as plt\n",
    "import pandas as pd\n",
    "import seaborn as sns"
   ]
  }
 ],
 "metadata": {
  "language_info": {
   "name": "python"
  }
 },
 "nbformat": 4,
 "nbformat_minor": 2
}
