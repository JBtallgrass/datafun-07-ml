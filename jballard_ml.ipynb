{
 "cells": [
  {
   "cell_type": "markdown",
   "metadata": {},
   "source": [
    "# Module 7: Machine Learning\n",
    "\n",
    "## Author Jason A. Ballard  \n",
    "\n",
    "## [JBtallgrass GitHub Repo](https://github.com/JBtallgrass/datafun-07-ml)"
   ]
  },
  {
   "cell_type": "code",
   "execution_count": null,
   "metadata": {},
   "outputs": [],
   "source": [
    "# Import dependencies\n",
    "import matplotlib.pyplot as plt\n",
    "import pandas as pd\n",
    "import seaborn as sns\n",
    "from scipy import stats\n",
    "import numpy as np\n",
    "from sklearn.model_selection import train_test_split\n",
    "from sklearn.linear_model import LinearRegression"
   ]
  },
  {
   "cell_type": "markdown",
   "metadata": {},
   "source": [
    "## Part 1: Chart a straight line"
   ]
  },
  {
   "cell_type": "code",
   "execution_count": null,
   "metadata": {},
   "outputs": [],
   "source": [
    "c =lambda f: 5/9 *(f-32)\n",
    "\n",
    "temps =[(f, c(f)) for f in range(0, 101, 10)]\n",
    "\n",
    "temps_df = pd.DataFrame(temps, columns=['Fahrenheit' , 'Celsius'])\n",
    "axes = temps_df.plot(x='Fahrenheit', y = 'Celsius', style='.-')\n",
    "y_label = axes.set_ylabel('Celsius')\n",
    "\n",
    "# Save the figure\n",
    "plt.title(f'Celsius to Fahrenheit relationship')\n",
    "plt.savefig('figures/temp_line_chart.png')  # Saves to the file as .png to figures directory\n",
    "# Show all plots\n",
    "plt.show()\n"
   ]
  },
  {
   "cell_type": "markdown",
   "metadata": {},
   "source": [
    "## Part 2: Predict Avg High Temp in NYC in January"
   ]
  },
  {
   "cell_type": "markdown",
   "metadata": {},
   "source": [
    "### Section 1: Data Acquisition"
   ]
  },
  {
   "cell_type": "code",
   "execution_count": null,
   "metadata": {},
   "outputs": [],
   "source": [
    "nyc_df = pd.read_csv('data/ave_hi_nyc_jan_1895-2018.csv')\n",
    "nyc_df.head()"
   ]
  },
  {
   "cell_type": "markdown",
   "metadata": {},
   "source": [
    "### Section 2: Data Inspection"
   ]
  },
  {
   "cell_type": "code",
   "execution_count": null,
   "metadata": {},
   "outputs": [],
   "source": [
    "nyc_df.tail()"
   ]
  },
  {
   "cell_type": "code",
   "execution_count": null,
   "metadata": {},
   "outputs": [],
   "source": [
    "nyc_df.columns =['Date', 'Temperature', 'Anomaly']\n",
    "nyc_df.head()"
   ]
  },
  {
   "cell_type": "code",
   "execution_count": null,
   "metadata": {},
   "outputs": [],
   "source": [
    "nyc_df.Date.dtype"
   ]
  },
  {
   "cell_type": "code",
   "execution_count": null,
   "metadata": {},
   "outputs": [],
   "source": [
    "nyc_df.Date = nyc_df.Date.floordiv(100)\n",
    "nyc_df.head(3)\n"
   ]
  },
  {
   "cell_type": "markdown",
   "metadata": {},
   "source": [
    "### Section 4: Descriptive Statistics"
   ]
  },
  {
   "cell_type": "code",
   "execution_count": null,
   "metadata": {},
   "outputs": [],
   "source": [
    "pd.set_option('display.precision',2)\n",
    "\n",
    "nyc_df.Temperature.describe()\n",
    "\n"
   ]
  },
  {
   "cell_type": "markdown",
   "metadata": {},
   "source": [
    "### Section 5: Build the Model"
   ]
  },
  {
   "cell_type": "code",
   "execution_count": null,
   "metadata": {},
   "outputs": [],
   "source": [
    "linear_regression =stats.linregress(x=nyc_df.Date, y=nyc_df.Temperature)\n",
    "linear_regression.slope\n"
   ]
  },
  {
   "cell_type": "code",
   "execution_count": null,
   "metadata": {},
   "outputs": [],
   "source": [
    "linear_regression.intercept"
   ]
  },
  {
   "cell_type": "markdown",
   "metadata": {},
   "source": [
    "### Section 6: Predict"
   ]
  },
  {
   "cell_type": "code",
   "execution_count": null,
   "metadata": {},
   "outputs": [],
   "source": [
    "linear_regression.slope * 2024 + linear_regression.intercept"
   ]
  },
  {
   "cell_type": "markdown",
   "metadata": {},
   "source": [
    "### Section 7: Data Visualization"
   ]
  },
  {
   "cell_type": "code",
   "execution_count": null,
   "metadata": {},
   "outputs": [],
   "source": [
    "# Set the style to 'darkgrid'\n",
    "sns.set_style('darkgrid')\n",
    "\n",
    "# Create the regression plot\n",
    "axes = sns.regplot(x='Date', y='Temperature', data=nyc_df, color='orange')\n",
    "axes.set_ylim(10, 70)\n",
    "\n",
    "# Add title and labels for clarity\n",
    "axes.set_title('Temperature Over Time')\n",
    "axes.set_xlabel('Date')\n",
    "axes.set_ylabel('Temperature')\n",
    "\n",
    "# Optionally, if you have a lot of dates on the x-axis and they overlap\n",
    "plt.xticks(rotation=45)\n",
    "\n",
    "# Save the figure\n",
    "plt.savefig('figures/regression_plot.png', dpi=300)  # Adjust dpi for higher resolution if needed\n",
    "\n",
    "# Display the plot\n",
    "plt.show()"
   ]
  },
  {
   "cell_type": "code",
   "execution_count": null,
   "metadata": {},
   "outputs": [],
   "source": [
    "# Create a residual plot to show differences between observed and predicted temperatures\n",
    "sns.residplot(x='Date', y='Temperature', data=nyc_df, color='orange')\n",
    "\n",
    "plt.title('Residuals of Temperature Regression\\n difference between Observed and Predicted')\n",
    "plt.xlabel('Date')\n",
    "plt.ylabel('Residuals')\n",
    "\n",
    "# Save the residual plot\n",
    "plt.savefig('figures/temperature_residuals.png', dpi=300)\n",
    "\n",
    "plt.show()\n"
   ]
  },
  {
   "cell_type": "markdown",
   "metadata": {},
   "source": [
    "## Part 3: Predict the Average High Temperature in January in NYC"
   ]
  },
  {
   "cell_type": "markdown",
   "metadata": {},
   "source": [
    "### Section 1: Build the Model (Split training and testing)"
   ]
  },
  {
   "cell_type": "code",
   "execution_count": null,
   "metadata": {},
   "outputs": [],
   "source": [
    "X_train, X_test, y_train, y_test =train_test_split(nyc_df.Date.values.reshape(-1,1),nyc_df.Temperature.values, random_state=11)\n",
    "\n",
    "X_train.shape"
   ]
  },
  {
   "cell_type": "code",
   "execution_count": null,
   "metadata": {},
   "outputs": [],
   "source": [
    "X_test.shape"
   ]
  },
  {
   "cell_type": "code",
   "execution_count": null,
   "metadata": {},
   "outputs": [],
   "source": [
    "linear_regression = LinearRegression()\n",
    "\n",
    "linear_regression.fit(X=X_train, y=y_train)"
   ]
  },
  {
   "cell_type": "code",
   "execution_count": null,
   "metadata": {},
   "outputs": [],
   "source": [
    "linear_regression.coef_"
   ]
  },
  {
   "cell_type": "code",
   "execution_count": null,
   "metadata": {},
   "outputs": [],
   "source": [
    "linear_regression.intercept_"
   ]
  },
  {
   "cell_type": "markdown",
   "metadata": {},
   "source": [
    "### Section 2: Test the Model"
   ]
  },
  {
   "cell_type": "code",
   "execution_count": null,
   "metadata": {},
   "outputs": [],
   "source": [
    "predicted = linear_regression.predict(X_test)\n",
    "\n",
    "expected = y_test \n",
    "\n",
    "for p, e in zip(predicted[::5], expected[::5]):\n",
    "    print(f'predicted: {p:.2f}, expected: {e:.2f}')"
   ]
  },
  {
   "cell_type": "markdown",
   "metadata": {},
   "source": [
    "### Section 3: Predict "
   ]
  },
  {
   "cell_type": "code",
   "execution_count": null,
   "metadata": {},
   "outputs": [],
   "source": [
    "predict = (lambda x: linear_regression.coef_* x + linear_regression.intercept_)\n",
    "\n",
    "predict (2024)"
   ]
  },
  {
   "cell_type": "markdown",
   "metadata": {},
   "source": [
    "### Section 4: Data Visualizations"
   ]
  },
  {
   "cell_type": "code",
   "execution_count": null,
   "metadata": {},
   "outputs": [],
   "source": [
    "axes = sns.scatterplot(data=nyc_df, x = 'Date', y = 'Temperature', hue='Temperature', palette='winter', legend=False)\n",
    "\n",
    "# Adjust for better layout if necessary, especially if you have date overlaps\n",
    "plt.xticks(rotation=45)\n",
    "plt.tight_layout()\n",
    "plt.title('Temperature Predictions for NYC \\n January (2024)')\n",
    "\n",
    "# Save the figure\n",
    "plt.savefig('figures/nyc_temperature_scatterplot.png', dpi=300)  # Saves the plot as a PNG file with 300 DPI\n",
    "\n",
    "# Show the plot\n",
    "plt.show()\n"
   ]
  },
  {
   "cell_type": "markdown",
   "metadata": {},
   "source": [
    "## Part 4:  Analysis"
   ]
  },
  {
   "cell_type": "markdown",
   "metadata": {},
   "source": [
    "### Key Takeaways from the Module 7 project\n",
    "\n",
    "1. **Gradual Warming Trend with Profound Implications:** The slight upward trend in temperatures over the 124-year period not only confirms the reality of global warming but also signals long-term environmental, ecological, and social implications. This underscores the urgency of acknowledging and addressing the subtle yet significant shifts in climate patterns.\n",
    "\n",
    "2. **Challenges in Climate Forecasting:** The discrepancies between predictions made by linear regression models and actual observed temperatures highlight the inherent difficulties in accurately modeling and forecasting climate phenomena. This points to the complexity of the climate system and the limitations of current predictive tools in capturing this complexity.\n",
    "\n",
    "3. **Need for Advanced Predictive Models:** The analysis consistently stresses the importance of methodological advancements and the development of more sophisticated models for climate prediction. Such advancements are critical for improving the accuracy of climate projections, enabling better preparedness and response strategies for climate change mitigation and adaptation."
   ]
  },
  {
   "cell_type": "markdown",
   "metadata": {},
   "source": [
    "### Model comparison\n",
    "\n",
    "1. I couldn't tell a differnce other than the amount of typing (Anti cut pasta) in a programming class due counting reps.\n",
    "2. The machine-learning in python (chapter 15) presented tighter predctions that may have better confidence intervals.\n",
    "3. I am not an expert and therefore I am excited to continue learning.\n",
    "4. I am amzed at the amount of variation you can play with in the programming and DataViz applications.\n"
   ]
  },
  {
   "cell_type": "markdown",
   "metadata": {},
   "source": [
    "## Part 5 Bonus\n",
    "\"California Housing Dataset\""
   ]
  },
  {
   "cell_type": "markdown",
   "metadata": {},
   "source": [
    "### Section 1: Fetch Data"
   ]
  },
  {
   "cell_type": "code",
   "execution_count": null,
   "metadata": {},
   "outputs": [],
   "source": [
    "from sklearn.datasets import fetch_california_housing\n",
    "\n",
    "california = fetch_california_housing()"
   ]
  },
  {
   "cell_type": "markdown",
   "metadata": {},
   "source": [
    "### Section 2: Display Dataset Description"
   ]
  },
  {
   "cell_type": "code",
   "execution_count": null,
   "metadata": {},
   "outputs": [],
   "source": [
    "print(california.DECR)"
   ]
  },
  {
   "cell_type": "code",
   "execution_count": null,
   "metadata": {},
   "outputs": [],
   "source": [
    "california.data.shape"
   ]
  },
  {
   "cell_type": "code",
   "execution_count": null,
   "metadata": {},
   "outputs": [],
   "source": [
    "california.target.shape"
   ]
  },
  {
   "cell_type": "code",
   "execution_count": null,
   "metadata": {},
   "outputs": [],
   "source": [
    "california.feature_names"
   ]
  },
  {
   "cell_type": "markdown",
   "metadata": {},
   "source": [
    "### Section 3: Explore the Dataset"
   ]
  },
  {
   "cell_type": "code",
   "execution_count": null,
   "metadata": {},
   "outputs": [],
   "source": [
    "pd.set_option('precision_display', 4)\n",
    "\n",
    "pd.set_option('max_columns', 9)\n",
    "\n",
    "pd.set_option('display.width', None)"
   ]
  },
  {
   "cell_type": "code",
   "execution_count": null,
   "metadata": {},
   "outputs": [],
   "source": [
    "california_df = pd.DataFrame(california.data, columns=california.feature_names)\n",
    "\n",
    "california_df['MedHouseValue'] = pd.Series(california.target)"
   ]
  },
  {
   "cell_type": "code",
   "execution_count": null,
   "metadata": {},
   "outputs": [],
   "source": [
    "california_df.head()\n",
    "\n"
   ]
  },
  {
   "cell_type": "code",
   "execution_count": null,
   "metadata": {},
   "outputs": [],
   "source": [
    "california_df.tail()"
   ]
  },
  {
   "cell_type": "code",
   "execution_count": null,
   "metadata": {},
   "outputs": [],
   "source": [
    "california_df.describe()"
   ]
  },
  {
   "cell_type": "markdown",
   "metadata": {},
   "source": [
    "### Section 4: Data Visualization"
   ]
  },
  {
   "cell_type": "code",
   "execution_count": null,
   "metadata": {},
   "outputs": [],
   "source": [
    "# california_df is already loaded\n",
    "sample_df = california_df.sample(frac=0.1, random_state=17)\n",
    "\n",
    "sns.set(font_scale=2)\n",
    "sns.set_style('darkgrid')\n",
    "\n",
    "# california.feature_names contains the names of the features to plot\n",
    "for feature in california.feature_names:\n",
    "    plt.figure(figsize=(16, 9))\n",
    "    sns.scatterplot(\n",
    "        data=sample_df,\n",
    "        x=feature,\n",
    "        y='MedHouseValue',\n",
    "        hue='MedHouseValue',\n",
    "        palette='coolwarm',  # desired color palette\n",
    "        legend=False\n",
    "    )\n",
    "    \n",
    "    # Save each figure with a unique name based on the feature\n",
    "    plt.savefig(f'figures/{feature}_vs_MedHouseValue.png', dpi=300)\n",
    "    \n",
    "    # Show the plot\n",
    "    plt.show()\n",
    "    \n",
    "    # Close the figure after displaying and saving to free up memory\n",
    "    plt.close()\n"
   ]
  },
  {
   "cell_type": "markdown",
   "metadata": {},
   "source": [
    "### Section 5: Build the Model"
   ]
  },
  {
   "cell_type": "code",
   "execution_count": null,
   "metadata": {},
   "outputs": [],
   "source": [
    "X_train, X_test, y_train, y_test =train_test_split(california.data, california.target, random_state=11)\n",
    "\n",
    "X_train.shape"
   ]
  },
  {
   "cell_type": "code",
   "execution_count": null,
   "metadata": {},
   "outputs": [],
   "source": [
    "X_test.shape"
   ]
  },
  {
   "cell_type": "markdown",
   "metadata": {},
   "source": [
    "### Section 6a: Train the Model"
   ]
  },
  {
   "cell_type": "markdown",
   "metadata": {},
   "source": [
    "### Section 6b: Testing the Model"
   ]
  },
  {
   "cell_type": "markdown",
   "metadata": {},
   "source": [
    "### Section 7: Comparison of Prediction Vs. Expected Prices"
   ]
  },
  {
   "cell_type": "markdown",
   "metadata": {},
   "source": [
    "### Section 8: Regression Metrics"
   ]
  },
  {
   "cell_type": "markdown",
   "metadata": {},
   "source": [
    "### Section 9: Choosing the Best Model"
   ]
  }
 ],
 "metadata": {
  "kernelspec": {
   "display_name": "Python 3",
   "language": "python",
   "name": "python3"
  },
  "language_info": {
   "codemirror_mode": {
    "name": "ipython",
    "version": 3
   },
   "file_extension": ".py",
   "mimetype": "text/x-python",
   "name": "python",
   "nbconvert_exporter": "python",
   "pygments_lexer": "ipython3",
   "version": "3.12.1"
  }
 },
 "nbformat": 4,
 "nbformat_minor": 2
}
